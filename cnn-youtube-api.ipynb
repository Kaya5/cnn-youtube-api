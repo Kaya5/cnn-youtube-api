{
 "cells": [
  {
   "cell_type": "code",
   "execution_count": null,
   "id": "36410b29-c091-413b-a043-b612f6e7372a",
   "metadata": {},
   "outputs": [],
   "source": [
    "!pip install wordcloud > /dev/null\n",
    "!pip install isodate > /dev/null\n",
    "!pip install --upgrade google-api-python-client > /dev/null"
   ]
  },
  {
   "cell_type": "code",
   "execution_count": 63,
   "id": "b4fbb47f-9d8c-49da-b30a-8be1d03cb56d",
   "metadata": {},
   "outputs": [],
   "source": [
    "import pandas as pd\n",
    "import logging\n",
    "import numpy as np\n",
    "\n",
    "from dateutil import parser\n",
    "from googleapiclient.discovery import build\n",
    "from IPython.display import JSON\n",
    "from googleapiclient.errors import HttpError\n",
    "\n",
    "# Visualisation packages\n",
    "\n",
    "import seaborn as sns\n",
    "import matplotlib.pyplot as plt\n",
    "import matplotlib.ticker as ticker\n",
    "\n",
    "# NLP packages\n",
    "from nltk.corpus import stopwords\n",
    "import nltk\n",
    "from wordcloud import WordCloud"
   ]
  },
  {
   "cell_type": "code",
   "execution_count": null,
   "id": "bab74b52-157f-4352-8fe3-63736641e1de",
   "metadata": {},
   "outputs": [],
   "source": [
    "api_key = \"\"\n",
    "channel_ids = [\n",
    "    \"UCupvZG-5ko_eiXAupbDfxWw\",\n",
    "]\n",
    "playlist_id = \"UUupvZG-5ko_eiXAupbDfxWw\""
   ]
  },
  {
   "cell_type": "code",
   "execution_count": null,
   "id": "1c93c985-4c01-4713-9132-03680d4cb875",
   "metadata": {},
   "outputs": [],
   "source": [
    "api_service_name = \"youtube\"\n",
    "api_version = \"v3\"\n",
    "\n",
    "# Get credentials and create an API client\n",
    "youtube = build(api_service_name, api_version, developerKey=api_key)\n"
   ]
  },
  {
   "cell_type": "code",
   "execution_count": null,
   "id": "29cdd39c-d97f-42d6-ae78-3a2cdb1de387",
   "metadata": {},
   "outputs": [],
   "source": [
    "def get_channel_stats(youtube, channel_ids):\n",
    "    all_data = []  # Initialize list\n",
    "\n",
    "    # API request to fetch channel details\n",
    "\n",
    "    request = youtube.channels().list(\n",
    "        part=\"snippet,contentDetails,statistics\", id=\",\".join(channel_ids)\n",
    "    )\n",
    "\n",
    "    response = request.execute()  # Execute the API request\n",
    "\n",
    "    # loop through items\n",
    "\n",
    "    for item in response[\"items\"]:\n",
    "        data = {\n",
    "            \"Channel Name\": item[\"snippet\"][\"title\"],\n",
    "            \"Location\": item[\"snippet\"].get(\"country\", \"N/A\"),\n",
    "            \"Subscribers\": int(item[\"statistics\"][\"subscriberCount\"]),\n",
    "            \"Views\": item[\"statistics\"][\"viewCount\"],\n",
    "            \"Total Videos\": int(item[\"statistics\"][\"videoCount\"]),\n",
    "            \"Playlist ID\": item[\"contentDetails\"][\"relatedPlaylists\"][\"uploads\"],\n",
    "        }\n",
    "\n",
    "        all_data.append(data)  # Append data to the list\n",
    "\n",
    "    return pd.DataFrame(all_data)  # Return a DataFrame"
   ]
  },
  {
   "cell_type": "code",
   "execution_count": 15,
   "id": "ad0f66ed-7ada-4161-9f54-2ac0d79a9090",
   "metadata": {},
   "outputs": [],
   "source": [
    "channel_stats = get_channel_stats(youtube, channel_ids)"
   ]
  },
  {
   "cell_type": "code",
   "execution_count": 16,
   "id": "7c611d06-099e-4273-9f02-bc98b1b4331c",
   "metadata": {},
   "outputs": [
    {
     "data": {
      "text/html": [
       "<div>\n",
       "<style scoped>\n",
       "    .dataframe tbody tr th:only-of-type {\n",
       "        vertical-align: middle;\n",
       "    }\n",
       "\n",
       "    .dataframe tbody tr th {\n",
       "        vertical-align: top;\n",
       "    }\n",
       "\n",
       "    .dataframe thead th {\n",
       "        text-align: right;\n",
       "    }\n",
       "</style>\n",
       "<table border=\"1\" class=\"dataframe\">\n",
       "  <thead>\n",
       "    <tr style=\"text-align: right;\">\n",
       "      <th></th>\n",
       "      <th>Channel Name</th>\n",
       "      <th>Location</th>\n",
       "      <th>Subscribers</th>\n",
       "      <th>Views</th>\n",
       "      <th>Total Videos</th>\n",
       "      <th>Playlist ID</th>\n",
       "    </tr>\n",
       "  </thead>\n",
       "  <tbody>\n",
       "    <tr>\n",
       "      <th>0</th>\n",
       "      <td>CNN</td>\n",
       "      <td>N/A</td>\n",
       "      <td>17700000</td>\n",
       "      <td>17428751276</td>\n",
       "      <td>170128</td>\n",
       "      <td>UUupvZG-5ko_eiXAupbDfxWw</td>\n",
       "    </tr>\n",
       "  </tbody>\n",
       "</table>\n",
       "</div>"
      ],
      "text/plain": [
       "  Channel Name Location  Subscribers        Views  Total Videos  \\\n",
       "0          CNN      N/A     17700000  17428751276        170128   \n",
       "\n",
       "                Playlist ID  \n",
       "0  UUupvZG-5ko_eiXAupbDfxWw  "
      ]
     },
     "execution_count": 16,
     "metadata": {},
     "output_type": "execute_result"
    }
   ],
   "source": [
    "channel_stats"
   ]
  },
  {
   "cell_type": "code",
   "execution_count": 17,
   "id": "9aeae25c-6e1a-42f5-802c-3faa1a9c8f0e",
   "metadata": {},
   "outputs": [
    {
     "data": {
      "application/json": {
       "etag": "w33nbts1XPRfdYBqpwSPBfGCb0Q",
       "items": [
        {
         "contentDetails": {
          "videoId": "WMGQiQDfuKM",
          "videoPublishedAt": "2025-03-10T02:10:37Z"
         },
         "etag": "Ne6z0b82hVyszAAfMfu6TvRERfs",
         "id": "VVV1cHZaRy01a29fZWlYQXVwYkRmeFd3LldNR1FpUURmdUtN",
         "kind": "youtube#playlistItem",
         "snippet": {
          "channelId": "UCupvZG-5ko_eiXAupbDfxWw",
          "channelTitle": "CNN",
          "description": "CNN's Natasha Chen spoke to Gary and Carol Cruise who normally spend a small fortune traveling throughout the US every year. Because of remarks by President Donald Trump and the tariff war, they've canceled nearly everything.\nAn earlier version of this video referred to Justin Trudeau with an incorrect title. Justin Trudeau is Canada's prime minister.\n\n#CNN #News",
          "playlistId": "UUupvZG-5ko_eiXAupbDfxWw",
          "position": 0,
          "publishedAt": "2025-03-10T02:10:37Z",
          "resourceId": {
           "kind": "youtube#video",
           "videoId": "WMGQiQDfuKM"
          },
          "thumbnails": {
           "default": {
            "height": 90,
            "url": "https://i.ytimg.com/vi/WMGQiQDfuKM/default.jpg",
            "width": 120
           },
           "high": {
            "height": 360,
            "url": "https://i.ytimg.com/vi/WMGQiQDfuKM/hqdefault.jpg",
            "width": 480
           },
           "maxres": {
            "height": 720,
            "url": "https://i.ytimg.com/vi/WMGQiQDfuKM/maxresdefault.jpg",
            "width": 1280
           },
           "medium": {
            "height": 180,
            "url": "https://i.ytimg.com/vi/WMGQiQDfuKM/mqdefault.jpg",
            "width": 320
           },
           "standard": {
            "height": 480,
            "url": "https://i.ytimg.com/vi/WMGQiQDfuKM/sddefault.jpg",
            "width": 640
           }
          },
          "title": "Canadian couple cancels thousands in travel to the US",
          "videoOwnerChannelId": "UCupvZG-5ko_eiXAupbDfxWw",
          "videoOwnerChannelTitle": "CNN"
         }
        },
        {
         "contentDetails": {
          "videoId": "V5ypd7kJYh8",
          "videoPublishedAt": "2025-03-10T02:03:36Z"
         },
         "etag": "S5JFy0dwirdZmmw2IGmYVMSbN8k",
         "id": "VVV1cHZaRy01a29fZWlYQXVwYkRmeFd3LlY1eXBkN2tKWWg4",
         "kind": "youtube#playlistItem",
         "snippet": {
          "channelId": "UCupvZG-5ko_eiXAupbDfxWw",
          "channelTitle": "CNN",
          "description": "Park workers braved heavy winds as gusts of over 120 mph pummeled Mount Washington State Park in New Hampshire. #CNN #News",
          "playlistId": "UUupvZG-5ko_eiXAupbDfxWw",
          "position": 1,
          "publishedAt": "2025-03-10T02:03:36Z",
          "resourceId": {
           "kind": "youtube#video",
           "videoId": "V5ypd7kJYh8"
          },
          "thumbnails": {
           "default": {
            "height": 90,
            "url": "https://i.ytimg.com/vi/V5ypd7kJYh8/default.jpg",
            "width": 120
           },
           "high": {
            "height": 360,
            "url": "https://i.ytimg.com/vi/V5ypd7kJYh8/hqdefault.jpg",
            "width": 480
           },
           "maxres": {
            "height": 720,
            "url": "https://i.ytimg.com/vi/V5ypd7kJYh8/maxresdefault.jpg",
            "width": 1280
           },
           "medium": {
            "height": 180,
            "url": "https://i.ytimg.com/vi/V5ypd7kJYh8/mqdefault.jpg",
            "width": 320
           },
           "standard": {
            "height": 480,
            "url": "https://i.ytimg.com/vi/V5ypd7kJYh8/sddefault.jpg",
            "width": 640
           }
          },
          "title": "Park workers battle 120 MPH winds",
          "videoOwnerChannelId": "UCupvZG-5ko_eiXAupbDfxWw",
          "videoOwnerChannelTitle": "CNN"
         }
        },
        {
         "contentDetails": {
          "videoId": "AqTvAZuwWlU",
          "videoPublishedAt": "2025-03-10T01:09:23Z"
         },
         "etag": "NTbpIHFNMAeMwOe7zJrUaT4KBjQ",
         "id": "VVV1cHZaRy01a29fZWlYQXVwYkRmeFd3LkFxVHZBWnV3V2xV",
         "kind": "youtube#playlistItem",
         "snippet": {
          "channelId": "UCupvZG-5ko_eiXAupbDfxWw",
          "channelTitle": "CNN",
          "description": "Mark Carney has been elected leader of Canada’s Liberal Party in a months-long, high-stakes race to replace Justin Trudeau. During his first remarks, he addressed President Donald Trump. #CNN #News",
          "playlistId": "UUupvZG-5ko_eiXAupbDfxWw",
          "position": 2,
          "publishedAt": "2025-03-10T01:09:23Z",
          "resourceId": {
           "kind": "youtube#video",
           "videoId": "AqTvAZuwWlU"
          },
          "thumbnails": {
           "default": {
            "height": 90,
            "url": "https://i.ytimg.com/vi/AqTvAZuwWlU/default.jpg",
            "width": 120
           },
           "high": {
            "height": 360,
            "url": "https://i.ytimg.com/vi/AqTvAZuwWlU/hqdefault.jpg",
            "width": 480
           },
           "maxres": {
            "height": 720,
            "url": "https://i.ytimg.com/vi/AqTvAZuwWlU/maxresdefault.jpg",
            "width": 1280
           },
           "medium": {
            "height": 180,
            "url": "https://i.ytimg.com/vi/AqTvAZuwWlU/mqdefault.jpg",
            "width": 320
           },
           "standard": {
            "height": 480,
            "url": "https://i.ytimg.com/vi/AqTvAZuwWlU/sddefault.jpg",
            "width": 640
           }
          },
          "title": "Mark Carney addresses Trump in first remarks as Canada's Liberal Party leader",
          "videoOwnerChannelId": "UCupvZG-5ko_eiXAupbDfxWw",
          "videoOwnerChannelTitle": "CNN"
         }
        },
        {
         "contentDetails": {
          "videoId": "7iZka5ewiQI",
          "videoPublishedAt": "2025-03-09T22:09:51Z"
         },
         "etag": "yHPQREFRQvLxSoJ2jzEqyeV3YBI",
         "id": "VVV1cHZaRy01a29fZWlYQXVwYkRmeFd3LjdpWmthNWV3aVFJ",
         "kind": "youtube#playlistItem",
         "snippet": {
          "channelId": "UCupvZG-5ko_eiXAupbDfxWw",
          "channelTitle": "CNN",
          "description": "CNN’s Fareed Zakaria, host of “Fareed Zakaria GPS,” shares his perspective on the latest moves by the Trump administration and predicts the potential impact of these developments on global order.  #CNN #News",
          "playlistId": "UUupvZG-5ko_eiXAupbDfxWw",
          "position": 3,
          "publishedAt": "2025-03-09T22:09:51Z",
          "resourceId": {
           "kind": "youtube#video",
           "videoId": "7iZka5ewiQI"
          },
          "thumbnails": {
           "default": {
            "height": 90,
            "url": "https://i.ytimg.com/vi/7iZka5ewiQI/default.jpg",
            "width": 120
           },
           "high": {
            "height": 360,
            "url": "https://i.ytimg.com/vi/7iZka5ewiQI/hqdefault.jpg",
            "width": 480
           },
           "maxres": {
            "height": 720,
            "url": "https://i.ytimg.com/vi/7iZka5ewiQI/maxresdefault.jpg",
            "width": 1280
           },
           "medium": {
            "height": 180,
            "url": "https://i.ytimg.com/vi/7iZka5ewiQI/mqdefault.jpg",
            "width": 320
           },
           "standard": {
            "height": 480,
            "url": "https://i.ytimg.com/vi/7iZka5ewiQI/sddefault.jpg",
            "width": 640
           }
          },
          "title": "Fareed on global impact of Trump’s moves",
          "videoOwnerChannelId": "UCupvZG-5ko_eiXAupbDfxWw",
          "videoOwnerChannelTitle": "CNN"
         }
        },
        {
         "contentDetails": {
          "videoId": "l_w-H7x4FwA",
          "videoPublishedAt": "2025-03-09T19:04:48Z"
         },
         "etag": "plbt9aBwCPPN5ew-qrQDa76z5YI",
         "id": "VVV1cHZaRy01a29fZWlYQXVwYkRmeFd3Lmxfdy1IN3g0RndB",
         "kind": "youtube#playlistItem",
         "snippet": {
          "channelId": "UCupvZG-5ko_eiXAupbDfxWw",
          "channelTitle": "CNN",
          "description": "Fareed Zakaria, host of “Fareed Zakaria GPS,” shares his take on the Trump administration’s latest moves and how he predicts these could impact global order. #CNN #News",
          "playlistId": "UUupvZG-5ko_eiXAupbDfxWw",
          "position": 4,
          "publishedAt": "2025-03-09T19:04:48Z",
          "resourceId": {
           "kind": "youtube#video",
           "videoId": "l_w-H7x4FwA"
          },
          "thumbnails": {
           "default": {
            "height": 90,
            "url": "https://i.ytimg.com/vi/l_w-H7x4FwA/default.jpg",
            "width": 120
           },
           "high": {
            "height": 360,
            "url": "https://i.ytimg.com/vi/l_w-H7x4FwA/hqdefault.jpg",
            "width": 480
           },
           "maxres": {
            "height": 720,
            "url": "https://i.ytimg.com/vi/l_w-H7x4FwA/maxresdefault.jpg",
            "width": 1280
           },
           "medium": {
            "height": 180,
            "url": "https://i.ytimg.com/vi/l_w-H7x4FwA/mqdefault.jpg",
            "width": 320
           },
           "standard": {
            "height": 480,
            "url": "https://i.ytimg.com/vi/l_w-H7x4FwA/sddefault.jpg",
            "width": 640
           }
          },
          "title": "Fareed’s Take: Trump’s revolution in foreign policy",
          "videoOwnerChannelId": "UCupvZG-5ko_eiXAupbDfxWw",
          "videoOwnerChannelTitle": "CNN"
         }
        }
       ],
       "kind": "youtube#playlistItemListResponse",
       "nextPageToken": "EAAaHlBUOkNBVWlFRE5HTWpFNU9UQTRSVVZEUXpVMlJFSQ",
       "pageInfo": {
        "resultsPerPage": 5,
        "totalResults": 20000
       }
      },
      "text/plain": [
       "<IPython.core.display.JSON object>"
      ]
     },
     "execution_count": 17,
     "metadata": {
      "application/json": {
       "expanded": false,
       "root": "root"
      }
     },
     "output_type": "execute_result"
    }
   ],
   "source": [
    "# find video ids using 'part' (enter snippet, contentDetails) & 'playlist ID' parameters via 'Playlistitems' on youtube api references\n",
    "request = youtube.playlistItems().list(\n",
    "    part=\"snippet, contentDetails\", playlistId=playlist_id\n",
    ")\n",
    "response = request.execute()\n",
    "\n",
    "JSON(response)"
   ]
  },
  {
   "cell_type": "code",
   "execution_count": 18,
   "id": "7da33b85-9b0a-471f-9582-41960c9730e3",
   "metadata": {},
   "outputs": [],
   "source": [
    "# create an empty list to store all video ids\n",
    "playlist_id = playlist_id\n",
    "\n",
    "\n",
    "def get_video_ids(youtube, playlist_id):\n",
    "\n",
    "    video_ids = []\n",
    "\n",
    "    request = youtube.playlistItems().list(\n",
    "        part=\"snippet,contentDetails\", playlistId=playlist_id, maxResults=50\n",
    "    )\n",
    "    response = request.execute()\n",
    "\n",
    "    # loop through all items and append the video id to the list.\n",
    "\n",
    "    for item in response[\"items\"]:\n",
    "        video_ids.append(item[\"contentDetails\"][\"videoId\"])\n",
    "\n",
    "    # implement nextPageToken to get all video ids\n",
    "\n",
    "    next_page_token = response.get(\"nextPageToken\")\n",
    "    while next_page_token is not None:\n",
    "        request = youtube.playlistItems().list(\n",
    "            part=\"contentDetails\",\n",
    "            playlistId=playlist_id,\n",
    "            maxResults=50,\n",
    "            pageToken=next_page_token,\n",
    "        )\n",
    "        response = request.execute()\n",
    "\n",
    "        for item in response[\"items\"]:\n",
    "            video_ids.append(item[\"contentDetails\"][\"videoId\"])\n",
    "\n",
    "        next_page_token = response.get(\"nextPageToken\")\n",
    "\n",
    "    return video_ids"
   ]
  },
  {
   "cell_type": "code",
   "execution_count": 19,
   "id": "c3db4d06-fff9-4eda-9691-63f27a0287cc",
   "metadata": {},
   "outputs": [],
   "source": [
    "video_ids = get_video_ids(youtube, playlist_id)"
   ]
  },
  {
   "cell_type": "code",
   "execution_count": 21,
   "id": "99154920-4682-4075-a7df-d161c44b3039",
   "metadata": {},
   "outputs": [
    {
     "name": "stdout",
     "output_type": "stream",
     "text": [
      "<function get_video_ids at 0x13b427560>\n"
     ]
    }
   ],
   "source": [
    "print(get_video_ids)  # return a function reference"
   ]
  },
  {
   "cell_type": "markdown",
   "id": "5b49e3df-2767-42be-bde1-129f4385df74",
   "metadata": {},
   "source": [
    "## Extract video info"
   ]
  },
  {
   "cell_type": "code",
   "execution_count": 22,
   "id": "54273057-cfb1-4a24-b007-d28b1da98fe6",
   "metadata": {},
   "outputs": [
    {
     "data": {
      "application/json": {
       "etag": "agdwx1mlrM7XN4LkkR2brGfimDs",
       "items": [
        {
         "contentDetails": {
          "caption": "false",
          "contentRating": {},
          "definition": "hd",
          "dimension": "2d",
          "duration": "PT2M10S",
          "licensedContent": true,
          "projection": "rectangular"
         },
         "etag": "NewOXFXaBl5LLw6sWG9lmJ0b2xA",
         "id": "WMGQiQDfuKM",
         "kind": "youtube#video",
         "snippet": {
          "categoryId": "25",
          "channelId": "UCupvZG-5ko_eiXAupbDfxWw",
          "channelTitle": "CNN",
          "defaultAudioLanguage": "en",
          "defaultLanguage": "en",
          "description": "CNN's Natasha Chen spoke to Gary and Carol Cruise who normally spend a small fortune traveling throughout the US every year. Because of remarks by President Donald Trump and the tariff war, they've canceled nearly everything.\nAn earlier version of this video referred to Justin Trudeau with an incorrect title. Justin Trudeau is Canada's prime minister.\n\n#CNN #News",
          "liveBroadcastContent": "none",
          "localized": {
           "description": "CNN's Natasha Chen spoke to Gary and Carol Cruise who normally spend a small fortune traveling throughout the US every year. Because of remarks by President Donald Trump and the tariff war, they've canceled nearly everything.\nAn earlier version of this video referred to Justin Trudeau with an incorrect title. Justin Trudeau is Canada's prime minister.\n\n#CNN #News",
           "title": "Canadian couple cancels thousands in travel to the US"
          },
          "publishedAt": "2025-03-10T02:10:37Z",
          "thumbnails": {
           "default": {
            "height": 90,
            "url": "https://i.ytimg.com/vi/WMGQiQDfuKM/default.jpg",
            "width": 120
           },
           "high": {
            "height": 360,
            "url": "https://i.ytimg.com/vi/WMGQiQDfuKM/hqdefault.jpg",
            "width": 480
           },
           "maxres": {
            "height": 720,
            "url": "https://i.ytimg.com/vi/WMGQiQDfuKM/maxresdefault.jpg",
            "width": 1280
           },
           "medium": {
            "height": 180,
            "url": "https://i.ytimg.com/vi/WMGQiQDfuKM/mqdefault.jpg",
            "width": 320
           },
           "standard": {
            "height": 480,
            "url": "https://i.ytimg.com/vi/WMGQiQDfuKM/sddefault.jpg",
            "width": 640
           }
          },
          "title": "Canadian couple cancels thousands in travel to the US"
         },
         "statistics": {
          "commentCount": "156",
          "favoriteCount": "0",
          "likeCount": "875",
          "viewCount": "24071"
         }
        },
        {
         "contentDetails": {
          "caption": "false",
          "contentRating": {},
          "definition": "hd",
          "dimension": "2d",
          "duration": "PT33S",
          "licensedContent": true,
          "projection": "rectangular"
         },
         "etag": "77Tct0cgdfHMSWyBs9ukcAsdnZo",
         "id": "V5ypd7kJYh8",
         "kind": "youtube#video",
         "snippet": {
          "categoryId": "25",
          "channelId": "UCupvZG-5ko_eiXAupbDfxWw",
          "channelTitle": "CNN",
          "defaultAudioLanguage": "en",
          "defaultLanguage": "en",
          "description": "Park workers braved heavy winds as gusts of over 120 mph pummeled Mount Washington State Park in New Hampshire. #CNN #News",
          "liveBroadcastContent": "none",
          "localized": {
           "description": "Park workers braved heavy winds as gusts of over 120 mph pummeled Mount Washington State Park in New Hampshire. #CNN #News",
           "title": "Park workers battle 120 MPH winds"
          },
          "publishedAt": "2025-03-10T02:03:36Z",
          "thumbnails": {
           "default": {
            "height": 90,
            "url": "https://i.ytimg.com/vi/V5ypd7kJYh8/default.jpg",
            "width": 120
           },
           "high": {
            "height": 360,
            "url": "https://i.ytimg.com/vi/V5ypd7kJYh8/hqdefault.jpg",
            "width": 480
           },
           "maxres": {
            "height": 720,
            "url": "https://i.ytimg.com/vi/V5ypd7kJYh8/maxresdefault.jpg",
            "width": 1280
           },
           "medium": {
            "height": 180,
            "url": "https://i.ytimg.com/vi/V5ypd7kJYh8/mqdefault.jpg",
            "width": 320
           },
           "standard": {
            "height": 480,
            "url": "https://i.ytimg.com/vi/V5ypd7kJYh8/sddefault.jpg",
            "width": 640
           }
          },
          "title": "Park workers battle 120 MPH winds"
         },
         "statistics": {
          "commentCount": "30",
          "favoriteCount": "0",
          "likeCount": "552",
          "viewCount": "13350"
         }
        },
        {
         "contentDetails": {
          "caption": "false",
          "contentRating": {},
          "definition": "hd",
          "dimension": "2d",
          "duration": "PT38S",
          "licensedContent": true,
          "projection": "rectangular"
         },
         "etag": "Ubmc0egzAu1ozgQmZju7xa2wiB4",
         "id": "AqTvAZuwWlU",
         "kind": "youtube#video",
         "snippet": {
          "categoryId": "25",
          "channelId": "UCupvZG-5ko_eiXAupbDfxWw",
          "channelTitle": "CNN",
          "defaultAudioLanguage": "en",
          "defaultLanguage": "en",
          "description": "Mark Carney has been elected leader of Canada’s Liberal Party in a months-long, high-stakes race to replace Justin Trudeau. During his first remarks, he addressed President Donald Trump. #CNN #News",
          "liveBroadcastContent": "none",
          "localized": {
           "description": "Mark Carney has been elected leader of Canada’s Liberal Party in a months-long, high-stakes race to replace Justin Trudeau. During his first remarks, he addressed President Donald Trump. #CNN #News",
           "title": "Mark Carney addresses Trump in first remarks as Canada's Liberal Party leader"
          },
          "publishedAt": "2025-03-10T01:09:23Z",
          "thumbnails": {
           "default": {
            "height": 90,
            "url": "https://i.ytimg.com/vi/AqTvAZuwWlU/default.jpg",
            "width": 120
           },
           "high": {
            "height": 360,
            "url": "https://i.ytimg.com/vi/AqTvAZuwWlU/hqdefault.jpg",
            "width": 480
           },
           "maxres": {
            "height": 720,
            "url": "https://i.ytimg.com/vi/AqTvAZuwWlU/maxresdefault.jpg",
            "width": 1280
           },
           "medium": {
            "height": 180,
            "url": "https://i.ytimg.com/vi/AqTvAZuwWlU/mqdefault.jpg",
            "width": 320
           },
           "standard": {
            "height": 480,
            "url": "https://i.ytimg.com/vi/AqTvAZuwWlU/sddefault.jpg",
            "width": 640
           }
          },
          "title": "Mark Carney addresses Trump in first remarks as Canada's Liberal Party leader"
         },
         "statistics": {
          "commentCount": "611",
          "favoriteCount": "0",
          "likeCount": "4854",
          "viewCount": "65407"
         }
        },
        {
         "contentDetails": {
          "caption": "false",
          "contentRating": {},
          "definition": "hd",
          "dimension": "2d",
          "duration": "PT1M54S",
          "licensedContent": true,
          "projection": "rectangular"
         },
         "etag": "6f73ADWvd9OfpMkQ3P5iDFkYg9A",
         "id": "7iZka5ewiQI",
         "kind": "youtube#video",
         "snippet": {
          "categoryId": "25",
          "channelId": "UCupvZG-5ko_eiXAupbDfxWw",
          "channelTitle": "CNN",
          "defaultAudioLanguage": "en",
          "defaultLanguage": "en",
          "description": "CNN’s Fareed Zakaria, host of “Fareed Zakaria GPS,” shares his perspective on the latest moves by the Trump administration and predicts the potential impact of these developments on global order.  #CNN #News",
          "liveBroadcastContent": "none",
          "localized": {
           "description": "CNN’s Fareed Zakaria, host of “Fareed Zakaria GPS,” shares his perspective on the latest moves by the Trump administration and predicts the potential impact of these developments on global order.  #CNN #News",
           "title": "Fareed on global impact of Trump’s moves"
          },
          "publishedAt": "2025-03-09T22:09:51Z",
          "thumbnails": {
           "default": {
            "height": 90,
            "url": "https://i.ytimg.com/vi/7iZka5ewiQI/default.jpg",
            "width": 120
           },
           "high": {
            "height": 360,
            "url": "https://i.ytimg.com/vi/7iZka5ewiQI/hqdefault.jpg",
            "width": 480
           },
           "maxres": {
            "height": 720,
            "url": "https://i.ytimg.com/vi/7iZka5ewiQI/maxresdefault.jpg",
            "width": 1280
           },
           "medium": {
            "height": 180,
            "url": "https://i.ytimg.com/vi/7iZka5ewiQI/mqdefault.jpg",
            "width": 320
           },
           "standard": {
            "height": 480,
            "url": "https://i.ytimg.com/vi/7iZka5ewiQI/sddefault.jpg",
            "width": 640
           }
          },
          "title": "Fareed on global impact of Trump’s moves"
         },
         "statistics": {
          "commentCount": "78",
          "favoriteCount": "0",
          "likeCount": "529",
          "viewCount": "12942"
         }
        },
        {
         "contentDetails": {
          "caption": "true",
          "contentRating": {},
          "definition": "sd",
          "dimension": "2d",
          "duration": "PT5M49S",
          "licensedContent": true,
          "projection": "rectangular"
         },
         "etag": "txSL9LxiGLxvv38ASeDvyduRWFs",
         "id": "l_w-H7x4FwA",
         "kind": "youtube#video",
         "snippet": {
          "categoryId": "25",
          "channelId": "UCupvZG-5ko_eiXAupbDfxWw",
          "channelTitle": "CNN",
          "defaultAudioLanguage": "en",
          "defaultLanguage": "en",
          "description": "Fareed Zakaria, host of “Fareed Zakaria GPS,” shares his take on the Trump administration’s latest moves and how he predicts these could impact global order. #CNN #News",
          "liveBroadcastContent": "none",
          "localized": {
           "description": "Fareed Zakaria, host of “Fareed Zakaria GPS,” shares his take on the Trump administration’s latest moves and how he predicts these could impact global order. #CNN #News",
           "title": "Fareed’s Take: Trump’s revolution in foreign policy"
          },
          "publishedAt": "2025-03-09T19:04:48Z",
          "thumbnails": {
           "default": {
            "height": 90,
            "url": "https://i.ytimg.com/vi/l_w-H7x4FwA/default.jpg",
            "width": 120
           },
           "high": {
            "height": 360,
            "url": "https://i.ytimg.com/vi/l_w-H7x4FwA/hqdefault.jpg",
            "width": 480
           },
           "maxres": {
            "height": 720,
            "url": "https://i.ytimg.com/vi/l_w-H7x4FwA/maxresdefault.jpg",
            "width": 1280
           },
           "medium": {
            "height": 180,
            "url": "https://i.ytimg.com/vi/l_w-H7x4FwA/mqdefault.jpg",
            "width": 320
           },
           "standard": {
            "height": 480,
            "url": "https://i.ytimg.com/vi/l_w-H7x4FwA/sddefault.jpg",
            "width": 640
           }
          },
          "title": "Fareed’s Take: Trump’s revolution in foreign policy"
         },
         "statistics": {
          "commentCount": "4067",
          "favoriteCount": "0",
          "likeCount": "11860",
          "viewCount": "592868"
         }
        }
       ],
       "kind": "youtube#videoListResponse",
       "pageInfo": {
        "resultsPerPage": 5,
        "totalResults": 5
       }
      },
      "text/plain": [
       "<IPython.core.display.JSON object>"
      ]
     },
     "execution_count": 22,
     "metadata": {
      "application/json": {
       "expanded": false,
       "root": "root"
      }
     },
     "output_type": "execute_result"
    }
   ],
   "source": [
    "request = youtube.videos().list(\n",
    "    part=\"snippet,contentDetails,statistics\",\n",
    "    id=video_ids[0:5],  # returns only first five\n",
    ")\n",
    "response = request.execute()\n",
    "JSON(response)"
   ]
  },
  {
   "cell_type": "markdown",
   "id": "6bc74761-bde0-48cb-b9eb-4aff6dcfb817",
   "metadata": {},
   "source": [
    "### Create an empty dict to store all video info extracted"
   ]
  },
  {
   "cell_type": "code",
   "execution_count": 23,
   "id": "299286b7-ba2b-4167-a2bc-f694909daa99",
   "metadata": {},
   "outputs": [],
   "source": [
    "def get_video_details(youtube, video_ids):\n",
    "\n",
    "    all_video_info = []\n",
    "\n",
    "    request = youtube.videos().list(\n",
    "        part=\"snippet,contentDetails,statistics\",\n",
    "        id=video_ids[0:5],  # returns only first five\n",
    "    )\n",
    "\n",
    "    response = request.execute()\n",
    "\n",
    "    for video in response[\"items\"]:\n",
    "        cache_info = {\n",
    "            \"snippet\": [\"channelTitle\", \"title\", \"description\", \"tags\", \"publishedAt\"],\n",
    "            \"statistics\": [\"viewCount\", \"likeCount\", \"favouriteCount\", \"commentCount\"],\n",
    "            \"contentDetails\": [\"duration\", \"definition\", \"caption\"],\n",
    "        }\n",
    "\n",
    "        video_info = {}\n",
    "        video_info[\"video_id\"] = video[\"id\"]\n",
    "\n",
    "        for k in cache_info.keys():\n",
    "            for v in cache_info[k]:\n",
    "                try:\n",
    "                    video_info[v] = video[k][v]\n",
    "                except:\n",
    "                    video_info[v] = None\n",
    "\n",
    "        all_video_info.append(video_info)\n",
    "\n",
    "    return pd.DataFrame(all_video_info)"
   ]
  },
  {
   "cell_type": "code",
   "execution_count": 24,
   "id": "c2d3bccc-1b75-483c-8d54-6d1be9d1fce3",
   "metadata": {
    "scrolled": true
   },
   "outputs": [
    {
     "data": {
      "text/html": [
       "<div>\n",
       "<style scoped>\n",
       "    .dataframe tbody tr th:only-of-type {\n",
       "        vertical-align: middle;\n",
       "    }\n",
       "\n",
       "    .dataframe tbody tr th {\n",
       "        vertical-align: top;\n",
       "    }\n",
       "\n",
       "    .dataframe thead th {\n",
       "        text-align: right;\n",
       "    }\n",
       "</style>\n",
       "<table border=\"1\" class=\"dataframe\">\n",
       "  <thead>\n",
       "    <tr style=\"text-align: right;\">\n",
       "      <th></th>\n",
       "      <th>video_id</th>\n",
       "      <th>channelTitle</th>\n",
       "      <th>title</th>\n",
       "      <th>description</th>\n",
       "      <th>tags</th>\n",
       "      <th>publishedAt</th>\n",
       "      <th>viewCount</th>\n",
       "      <th>likeCount</th>\n",
       "      <th>favouriteCount</th>\n",
       "      <th>commentCount</th>\n",
       "      <th>duration</th>\n",
       "      <th>definition</th>\n",
       "      <th>caption</th>\n",
       "    </tr>\n",
       "  </thead>\n",
       "  <tbody>\n",
       "    <tr>\n",
       "      <th>0</th>\n",
       "      <td>WMGQiQDfuKM</td>\n",
       "      <td>CNN</td>\n",
       "      <td>Canadian couple cancels thousands in travel to...</td>\n",
       "      <td>CNN's Natasha Chen spoke to Gary and Carol Cru...</td>\n",
       "      <td>None</td>\n",
       "      <td>2025-03-10T02:10:37Z</td>\n",
       "      <td>24071</td>\n",
       "      <td>875</td>\n",
       "      <td>None</td>\n",
       "      <td>156</td>\n",
       "      <td>PT2M10S</td>\n",
       "      <td>hd</td>\n",
       "      <td>false</td>\n",
       "    </tr>\n",
       "    <tr>\n",
       "      <th>1</th>\n",
       "      <td>V5ypd7kJYh8</td>\n",
       "      <td>CNN</td>\n",
       "      <td>Park workers battle 120 MPH winds</td>\n",
       "      <td>Park workers braved heavy winds as gusts of ov...</td>\n",
       "      <td>None</td>\n",
       "      <td>2025-03-10T02:03:36Z</td>\n",
       "      <td>13350</td>\n",
       "      <td>552</td>\n",
       "      <td>None</td>\n",
       "      <td>30</td>\n",
       "      <td>PT33S</td>\n",
       "      <td>hd</td>\n",
       "      <td>false</td>\n",
       "    </tr>\n",
       "    <tr>\n",
       "      <th>2</th>\n",
       "      <td>AqTvAZuwWlU</td>\n",
       "      <td>CNN</td>\n",
       "      <td>Mark Carney addresses Trump in first remarks a...</td>\n",
       "      <td>Mark Carney has been elected leader of Canada’...</td>\n",
       "      <td>None</td>\n",
       "      <td>2025-03-10T01:09:23Z</td>\n",
       "      <td>65407</td>\n",
       "      <td>4854</td>\n",
       "      <td>None</td>\n",
       "      <td>611</td>\n",
       "      <td>PT38S</td>\n",
       "      <td>hd</td>\n",
       "      <td>false</td>\n",
       "    </tr>\n",
       "    <tr>\n",
       "      <th>3</th>\n",
       "      <td>7iZka5ewiQI</td>\n",
       "      <td>CNN</td>\n",
       "      <td>Fareed on global impact of Trump’s moves</td>\n",
       "      <td>CNN’s Fareed Zakaria, host of “Fareed Zakaria ...</td>\n",
       "      <td>None</td>\n",
       "      <td>2025-03-09T22:09:51Z</td>\n",
       "      <td>12942</td>\n",
       "      <td>529</td>\n",
       "      <td>None</td>\n",
       "      <td>78</td>\n",
       "      <td>PT1M54S</td>\n",
       "      <td>hd</td>\n",
       "      <td>false</td>\n",
       "    </tr>\n",
       "    <tr>\n",
       "      <th>4</th>\n",
       "      <td>l_w-H7x4FwA</td>\n",
       "      <td>CNN</td>\n",
       "      <td>Fareed’s Take: Trump’s revolution in foreign p...</td>\n",
       "      <td>Fareed Zakaria, host of “Fareed Zakaria GPS,” ...</td>\n",
       "      <td>None</td>\n",
       "      <td>2025-03-09T19:04:48Z</td>\n",
       "      <td>592868</td>\n",
       "      <td>11860</td>\n",
       "      <td>None</td>\n",
       "      <td>4067</td>\n",
       "      <td>PT5M49S</td>\n",
       "      <td>sd</td>\n",
       "      <td>true</td>\n",
       "    </tr>\n",
       "  </tbody>\n",
       "</table>\n",
       "</div>"
      ],
      "text/plain": [
       "      video_id channelTitle  \\\n",
       "0  WMGQiQDfuKM          CNN   \n",
       "1  V5ypd7kJYh8          CNN   \n",
       "2  AqTvAZuwWlU          CNN   \n",
       "3  7iZka5ewiQI          CNN   \n",
       "4  l_w-H7x4FwA          CNN   \n",
       "\n",
       "                                               title  \\\n",
       "0  Canadian couple cancels thousands in travel to...   \n",
       "1                  Park workers battle 120 MPH winds   \n",
       "2  Mark Carney addresses Trump in first remarks a...   \n",
       "3           Fareed on global impact of Trump’s moves   \n",
       "4  Fareed’s Take: Trump’s revolution in foreign p...   \n",
       "\n",
       "                                         description  tags  \\\n",
       "0  CNN's Natasha Chen spoke to Gary and Carol Cru...  None   \n",
       "1  Park workers braved heavy winds as gusts of ov...  None   \n",
       "2  Mark Carney has been elected leader of Canada’...  None   \n",
       "3  CNN’s Fareed Zakaria, host of “Fareed Zakaria ...  None   \n",
       "4  Fareed Zakaria, host of “Fareed Zakaria GPS,” ...  None   \n",
       "\n",
       "            publishedAt viewCount likeCount favouriteCount commentCount  \\\n",
       "0  2025-03-10T02:10:37Z     24071       875           None          156   \n",
       "1  2025-03-10T02:03:36Z     13350       552           None           30   \n",
       "2  2025-03-10T01:09:23Z     65407      4854           None          611   \n",
       "3  2025-03-09T22:09:51Z     12942       529           None           78   \n",
       "4  2025-03-09T19:04:48Z    592868     11860           None         4067   \n",
       "\n",
       "  duration definition caption  \n",
       "0  PT2M10S         hd   false  \n",
       "1    PT33S         hd   false  \n",
       "2    PT38S         hd   false  \n",
       "3  PT1M54S         hd   false  \n",
       "4  PT5M49S         sd    true  "
      ]
     },
     "execution_count": 24,
     "metadata": {},
     "output_type": "execute_result"
    }
   ],
   "source": [
    "# Get video details\n",
    "\n",
    "video_df = get_video_details(youtube, video_ids)\n",
    "video_df"
   ]
  },
  {
   "cell_type": "markdown",
   "id": "fec4e0f2-c41e-4193-bd9a-64ec426c4e40",
   "metadata": {},
   "source": [
    "## Extract video comments"
   ]
  },
  {
   "cell_type": "code",
   "execution_count": 26,
   "id": "0418a248-006a-46c9-877f-617b19c4d8b0",
   "metadata": {},
   "outputs": [],
   "source": [
    "# Suppress API warnings to avoid unnecessary logs\n",
    "\n",
    "logging.getLogger(\"googleapiclient.http\").setLevel(logging.ERROR)\n",
    "\n",
    "\n",
    "def get_video_comments(youtube, video_ids, max_comments=10):\n",
    "    all_comments = []\n",
    "\n",
    "    for video_id in video_ids:\n",
    "        try:\n",
    "            request = youtube.commentThreads().list(\n",
    "                part=\"snippet,replies\",\n",
    "                videoId=video_id,\n",
    "                maxResults=30,\n",
    "                order=\"relevance\",  # Fetch top comments instead of latest\n",
    "            )\n",
    "            response = request.execute() \n",
    "\n",
    "            video_comments = []\n",
    "            for item in response.get(\"items\", []):  # Handle missing items\n",
    "                try:\n",
    "                    comment_text = item[\"snippet\"][\"topLevelComment\"][\"snippet\"][\n",
    "                        \"textOriginal\"\n",
    "                    ]\n",
    "                    video_comments.append(comment_text)\n",
    "\n",
    "                    # Stop collecting when max_comments is reached\n",
    "\n",
    "                    if len(video_comments) >= max_comments:\n",
    "                        break\n",
    "\n",
    "                except KeyError:\n",
    "                    continue  # Skip missing comments safely\n",
    "\n",
    "                # except KeyError:\n",
    "                # video_comments.append(None)  # Handle missing comments safely\n",
    "\n",
    "            all_comments.append({\"video_id\": video_id, \"comments\": video_comments})\n",
    "\n",
    "        except HttpError as e:  # Skip videos with comments disabled\n",
    "            error_message = str(e)\n",
    "            if \"commentsDisabled\" in error_message:\n",
    "                continue  # Silently skip and move to the next video\n",
    "\n",
    "    return pd.DataFrame(all_comments)"
   ]
  },
  {
   "cell_type": "code",
   "execution_count": 27,
   "id": "0ef874f3-41db-494b-9609-99a856138760",
   "metadata": {},
   "outputs": [],
   "source": [
    "comments_df = get_video_comments(youtube, video_ids)"
   ]
  },
  {
   "cell_type": "code",
   "execution_count": 28,
   "id": "c3423b19-76c1-4122-be9d-efa5d8316185",
   "metadata": {},
   "outputs": [
    {
     "data": {
      "text/html": [
       "<div>\n",
       "<style scoped>\n",
       "    .dataframe tbody tr th:only-of-type {\n",
       "        vertical-align: middle;\n",
       "    }\n",
       "\n",
       "    .dataframe tbody tr th {\n",
       "        vertical-align: top;\n",
       "    }\n",
       "\n",
       "    .dataframe thead th {\n",
       "        text-align: right;\n",
       "    }\n",
       "</style>\n",
       "<table border=\"1\" class=\"dataframe\">\n",
       "  <thead>\n",
       "    <tr style=\"text-align: right;\">\n",
       "      <th></th>\n",
       "      <th>video_id</th>\n",
       "      <th>comments</th>\n",
       "    </tr>\n",
       "  </thead>\n",
       "  <tbody>\n",
       "    <tr>\n",
       "      <th>0</th>\n",
       "      <td>WMGQiQDfuKM</td>\n",
       "      <td>[Agree with this wonderful couple ❤, We can no...</td>\n",
       "    </tr>\n",
       "    <tr>\n",
       "      <th>1</th>\n",
       "      <td>V5ypd7kJYh8</td>\n",
       "      <td>[Pretty sure there’s some context missing here...</td>\n",
       "    </tr>\n",
       "    <tr>\n",
       "      <th>2</th>\n",
       "      <td>AqTvAZuwWlU</td>\n",
       "      <td>[As an American, I support Canada. They are ou...</td>\n",
       "    </tr>\n",
       "    <tr>\n",
       "      <th>3</th>\n",
       "      <td>7iZka5ewiQI</td>\n",
       "      <td>[THE USA has tucked up the entire Globe. ❤from...</td>\n",
       "    </tr>\n",
       "    <tr>\n",
       "      <th>4</th>\n",
       "      <td>l_w-H7x4FwA</td>\n",
       "      <td>[From a Norwegian: A few weeks ago, the US was...</td>\n",
       "    </tr>\n",
       "    <tr>\n",
       "      <th>...</th>\n",
       "      <td>...</td>\n",
       "      <td>...</td>\n",
       "    </tr>\n",
       "    <tr>\n",
       "      <th>9196</th>\n",
       "      <td>3UYaG42jK7k</td>\n",
       "      <td>[Elephant: \"It's not mine. I just found it.\" [...</td>\n",
       "    </tr>\n",
       "    <tr>\n",
       "      <th>9197</th>\n",
       "      <td>W48OhxvWdpQ</td>\n",
       "      <td>[It's always a tragedy when a surface to air m...</td>\n",
       "    </tr>\n",
       "    <tr>\n",
       "      <th>9198</th>\n",
       "      <td>aS7qeaNyp6Q</td>\n",
       "      <td>[Chris must’ve forgotten the time he closed th...</td>\n",
       "    </tr>\n",
       "    <tr>\n",
       "      <th>9199</th>\n",
       "      <td>PW28HA-zoCk</td>\n",
       "      <td>[IMAGINE HOW STRONG OUR COUNTRY WOULD BE IF PR...</td>\n",
       "    </tr>\n",
       "    <tr>\n",
       "      <th>9200</th>\n",
       "      <td>d2D811LWBNo</td>\n",
       "      <td>[Congrats india from (bostil) *brazil*\\n🇮🇳🤝🇧🇷,...</td>\n",
       "    </tr>\n",
       "  </tbody>\n",
       "</table>\n",
       "<p>9201 rows × 2 columns</p>\n",
       "</div>"
      ],
      "text/plain": [
       "         video_id                                           comments\n",
       "0     WMGQiQDfuKM  [Agree with this wonderful couple ❤, We can no...\n",
       "1     V5ypd7kJYh8  [Pretty sure there’s some context missing here...\n",
       "2     AqTvAZuwWlU  [As an American, I support Canada. They are ou...\n",
       "3     7iZka5ewiQI  [THE USA has tucked up the entire Globe. ❤from...\n",
       "4     l_w-H7x4FwA  [From a Norwegian: A few weeks ago, the US was...\n",
       "...           ...                                                ...\n",
       "9196  3UYaG42jK7k  [Elephant: \"It's not mine. I just found it.\" [...\n",
       "9197  W48OhxvWdpQ  [It's always a tragedy when a surface to air m...\n",
       "9198  aS7qeaNyp6Q  [Chris must’ve forgotten the time he closed th...\n",
       "9199  PW28HA-zoCk  [IMAGINE HOW STRONG OUR COUNTRY WOULD BE IF PR...\n",
       "9200  d2D811LWBNo  [Congrats india from (bostil) *brazil*\\n🇮🇳🤝🇧🇷,...\n",
       "\n",
       "[9201 rows x 2 columns]"
      ]
     },
     "execution_count": 28,
     "metadata": {},
     "output_type": "execute_result"
    }
   ],
   "source": [
    "comments_df"
   ]
  },
  {
   "cell_type": "markdown",
   "id": "61c136fc-a537-4cb3-856b-e71b11360859",
   "metadata": {},
   "source": [
    "# Data Pre-processing"
   ]
  },
  {
   "cell_type": "code",
   "execution_count": 29,
   "id": "58ba2a24-eaf2-4972-b2e8-04d1cf4de840",
   "metadata": {},
   "outputs": [
    {
     "data": {
      "text/plain": [
       "video_id          False\n",
       "channelTitle      False\n",
       "title             False\n",
       "description       False\n",
       "tags               True\n",
       "publishedAt       False\n",
       "viewCount         False\n",
       "likeCount         False\n",
       "favouriteCount     True\n",
       "commentCount      False\n",
       "duration          False\n",
       "definition        False\n",
       "caption           False\n",
       "dtype: bool"
      ]
     },
     "execution_count": 29,
     "metadata": {},
     "output_type": "execute_result"
    }
   ],
   "source": [
    "video_df.isnull().any()"
   ]
  },
  {
   "cell_type": "code",
   "execution_count": 30,
   "id": "d1e5ae85-4cd4-41f4-b45d-90d5c6209eb8",
   "metadata": {},
   "outputs": [
    {
     "data": {
      "text/plain": [
       "video_id          object\n",
       "channelTitle      object\n",
       "title             object\n",
       "description       object\n",
       "tags              object\n",
       "publishedAt       object\n",
       "viewCount         object\n",
       "likeCount         object\n",
       "favouriteCount    object\n",
       "commentCount      object\n",
       "duration          object\n",
       "definition        object\n",
       "caption           object\n",
       "dtype: object"
      ]
     },
     "execution_count": 30,
     "metadata": {},
     "output_type": "execute_result"
    }
   ],
   "source": [
    "video_df.dtypes"
   ]
  },
  {
   "cell_type": "code",
   "execution_count": 31,
   "id": "dff643ee-1c1c-4bc7-ae3b-bc5c53b4d449",
   "metadata": {},
   "outputs": [],
   "source": [
    "# Convert select columns from object to integer/numeric\n",
    "\n",
    "cols_to_integer = [\"viewCount\", \"likeCount\", \"favouriteCount\", \"commentCount\"]\n",
    "video_df[cols_to_integer] = video_df[cols_to_integer].apply(\n",
    "    pd.to_numeric, errors=\"coerce\", axis=1\n",
    ")"
   ]
  },
  {
   "cell_type": "code",
   "execution_count": 32,
   "id": "262b7311-3901-40c6-8e27-9afd794e6702",
   "metadata": {},
   "outputs": [],
   "source": [
    "# Date of publishing\n",
    "\n",
    "video_df[\"publishedAt\"] = video_df[\"publishedAt\"].apply(lambda x: parser.parse(x))\n",
    "video_df[\"publishDayName\"] = video_df[\"publishedAt\"].apply(lambda x: x.strftime(\"%A\"))"
   ]
  },
  {
   "cell_type": "code",
   "execution_count": 33,
   "id": "edf51fb8-c359-4ae1-aa62-b55f42eb5ab5",
   "metadata": {},
   "outputs": [],
   "source": [
    "# Convert Duration to numeric value (seconds)\n",
    "\n",
    "import isodate\n",
    "\n",
    "video_df[\"durationSecs\"] = video_df[\"duration\"].apply(\n",
    "    lambda x: isodate.parse_duration(x)\n",
    ")\n",
    "video_df[\"durationSecs\"] = video_df[\"durationSecs\"].astype(\"timedelta64[s]\")"
   ]
  },
  {
   "cell_type": "code",
   "execution_count": 34,
   "id": "6593e3d9-537d-4062-bfe3-5f8a65b099a3",
   "metadata": {},
   "outputs": [
    {
     "data": {
      "text/html": [
       "<div>\n",
       "<style scoped>\n",
       "    .dataframe tbody tr th:only-of-type {\n",
       "        vertical-align: middle;\n",
       "    }\n",
       "\n",
       "    .dataframe tbody tr th {\n",
       "        vertical-align: top;\n",
       "    }\n",
       "\n",
       "    .dataframe thead th {\n",
       "        text-align: right;\n",
       "    }\n",
       "</style>\n",
       "<table border=\"1\" class=\"dataframe\">\n",
       "  <thead>\n",
       "    <tr style=\"text-align: right;\">\n",
       "      <th></th>\n",
       "      <th>durationSecs</th>\n",
       "      <th>duration</th>\n",
       "    </tr>\n",
       "  </thead>\n",
       "  <tbody>\n",
       "    <tr>\n",
       "      <th>0</th>\n",
       "      <td>0 days 00:02:10</td>\n",
       "      <td>PT2M10S</td>\n",
       "    </tr>\n",
       "    <tr>\n",
       "      <th>1</th>\n",
       "      <td>0 days 00:00:33</td>\n",
       "      <td>PT33S</td>\n",
       "    </tr>\n",
       "    <tr>\n",
       "      <th>2</th>\n",
       "      <td>0 days 00:00:38</td>\n",
       "      <td>PT38S</td>\n",
       "    </tr>\n",
       "    <tr>\n",
       "      <th>3</th>\n",
       "      <td>0 days 00:01:54</td>\n",
       "      <td>PT1M54S</td>\n",
       "    </tr>\n",
       "    <tr>\n",
       "      <th>4</th>\n",
       "      <td>0 days 00:05:49</td>\n",
       "      <td>PT5M49S</td>\n",
       "    </tr>\n",
       "  </tbody>\n",
       "</table>\n",
       "</div>"
      ],
      "text/plain": [
       "     durationSecs duration\n",
       "0 0 days 00:02:10  PT2M10S\n",
       "1 0 days 00:00:33    PT33S\n",
       "2 0 days 00:00:38    PT38S\n",
       "3 0 days 00:01:54  PT1M54S\n",
       "4 0 days 00:05:49  PT5M49S"
      ]
     },
     "execution_count": 34,
     "metadata": {},
     "output_type": "execute_result"
    }
   ],
   "source": [
    "video_df[[\"durationSecs\", \"duration\"]]"
   ]
  },
  {
   "cell_type": "code",
   "execution_count": 35,
   "id": "28d1baf9-5b35-4425-826b-a81ec20954a3",
   "metadata": {},
   "outputs": [],
   "source": [
    "# Add Tag count\n",
    "\n",
    "video_df[\"tagCount\"] = video_df[\"tags\"].apply(lambda x: 0 if x is None else len(x))"
   ]
  },
  {
   "cell_type": "code",
   "execution_count": 36,
   "id": "91b7be2e-b2c1-41e1-91e0-eeb3a51e4b32",
   "metadata": {},
   "outputs": [
    {
     "data": {
      "text/html": [
       "<div>\n",
       "<style scoped>\n",
       "    .dataframe tbody tr th:only-of-type {\n",
       "        vertical-align: middle;\n",
       "    }\n",
       "\n",
       "    .dataframe tbody tr th {\n",
       "        vertical-align: top;\n",
       "    }\n",
       "\n",
       "    .dataframe thead th {\n",
       "        text-align: right;\n",
       "    }\n",
       "</style>\n",
       "<table border=\"1\" class=\"dataframe\">\n",
       "  <thead>\n",
       "    <tr style=\"text-align: right;\">\n",
       "      <th></th>\n",
       "      <th>video_id</th>\n",
       "      <th>channelTitle</th>\n",
       "      <th>title</th>\n",
       "      <th>description</th>\n",
       "      <th>tags</th>\n",
       "      <th>publishedAt</th>\n",
       "      <th>viewCount</th>\n",
       "      <th>likeCount</th>\n",
       "      <th>favouriteCount</th>\n",
       "      <th>commentCount</th>\n",
       "      <th>duration</th>\n",
       "      <th>definition</th>\n",
       "      <th>caption</th>\n",
       "      <th>publishDayName</th>\n",
       "      <th>durationSecs</th>\n",
       "      <th>tagCount</th>\n",
       "    </tr>\n",
       "  </thead>\n",
       "  <tbody>\n",
       "    <tr>\n",
       "      <th>0</th>\n",
       "      <td>WMGQiQDfuKM</td>\n",
       "      <td>CNN</td>\n",
       "      <td>Canadian couple cancels thousands in travel to...</td>\n",
       "      <td>CNN's Natasha Chen spoke to Gary and Carol Cru...</td>\n",
       "      <td>None</td>\n",
       "      <td>2025-03-10 02:10:37+00:00</td>\n",
       "      <td>24071.0</td>\n",
       "      <td>875.0</td>\n",
       "      <td>NaN</td>\n",
       "      <td>156.0</td>\n",
       "      <td>PT2M10S</td>\n",
       "      <td>hd</td>\n",
       "      <td>false</td>\n",
       "      <td>Monday</td>\n",
       "      <td>0 days 00:02:10</td>\n",
       "      <td>0</td>\n",
       "    </tr>\n",
       "    <tr>\n",
       "      <th>1</th>\n",
       "      <td>V5ypd7kJYh8</td>\n",
       "      <td>CNN</td>\n",
       "      <td>Park workers battle 120 MPH winds</td>\n",
       "      <td>Park workers braved heavy winds as gusts of ov...</td>\n",
       "      <td>None</td>\n",
       "      <td>2025-03-10 02:03:36+00:00</td>\n",
       "      <td>13350.0</td>\n",
       "      <td>552.0</td>\n",
       "      <td>NaN</td>\n",
       "      <td>30.0</td>\n",
       "      <td>PT33S</td>\n",
       "      <td>hd</td>\n",
       "      <td>false</td>\n",
       "      <td>Monday</td>\n",
       "      <td>0 days 00:00:33</td>\n",
       "      <td>0</td>\n",
       "    </tr>\n",
       "    <tr>\n",
       "      <th>2</th>\n",
       "      <td>AqTvAZuwWlU</td>\n",
       "      <td>CNN</td>\n",
       "      <td>Mark Carney addresses Trump in first remarks a...</td>\n",
       "      <td>Mark Carney has been elected leader of Canada’...</td>\n",
       "      <td>None</td>\n",
       "      <td>2025-03-10 01:09:23+00:00</td>\n",
       "      <td>65407.0</td>\n",
       "      <td>4854.0</td>\n",
       "      <td>NaN</td>\n",
       "      <td>611.0</td>\n",
       "      <td>PT38S</td>\n",
       "      <td>hd</td>\n",
       "      <td>false</td>\n",
       "      <td>Monday</td>\n",
       "      <td>0 days 00:00:38</td>\n",
       "      <td>0</td>\n",
       "    </tr>\n",
       "    <tr>\n",
       "      <th>3</th>\n",
       "      <td>7iZka5ewiQI</td>\n",
       "      <td>CNN</td>\n",
       "      <td>Fareed on global impact of Trump’s moves</td>\n",
       "      <td>CNN’s Fareed Zakaria, host of “Fareed Zakaria ...</td>\n",
       "      <td>None</td>\n",
       "      <td>2025-03-09 22:09:51+00:00</td>\n",
       "      <td>12942.0</td>\n",
       "      <td>529.0</td>\n",
       "      <td>NaN</td>\n",
       "      <td>78.0</td>\n",
       "      <td>PT1M54S</td>\n",
       "      <td>hd</td>\n",
       "      <td>false</td>\n",
       "      <td>Sunday</td>\n",
       "      <td>0 days 00:01:54</td>\n",
       "      <td>0</td>\n",
       "    </tr>\n",
       "    <tr>\n",
       "      <th>4</th>\n",
       "      <td>l_w-H7x4FwA</td>\n",
       "      <td>CNN</td>\n",
       "      <td>Fareed’s Take: Trump’s revolution in foreign p...</td>\n",
       "      <td>Fareed Zakaria, host of “Fareed Zakaria GPS,” ...</td>\n",
       "      <td>None</td>\n",
       "      <td>2025-03-09 19:04:48+00:00</td>\n",
       "      <td>592868.0</td>\n",
       "      <td>11860.0</td>\n",
       "      <td>NaN</td>\n",
       "      <td>4067.0</td>\n",
       "      <td>PT5M49S</td>\n",
       "      <td>sd</td>\n",
       "      <td>true</td>\n",
       "      <td>Sunday</td>\n",
       "      <td>0 days 00:05:49</td>\n",
       "      <td>0</td>\n",
       "    </tr>\n",
       "  </tbody>\n",
       "</table>\n",
       "</div>"
      ],
      "text/plain": [
       "      video_id channelTitle  \\\n",
       "0  WMGQiQDfuKM          CNN   \n",
       "1  V5ypd7kJYh8          CNN   \n",
       "2  AqTvAZuwWlU          CNN   \n",
       "3  7iZka5ewiQI          CNN   \n",
       "4  l_w-H7x4FwA          CNN   \n",
       "\n",
       "                                               title  \\\n",
       "0  Canadian couple cancels thousands in travel to...   \n",
       "1                  Park workers battle 120 MPH winds   \n",
       "2  Mark Carney addresses Trump in first remarks a...   \n",
       "3           Fareed on global impact of Trump’s moves   \n",
       "4  Fareed’s Take: Trump’s revolution in foreign p...   \n",
       "\n",
       "                                         description  tags  \\\n",
       "0  CNN's Natasha Chen spoke to Gary and Carol Cru...  None   \n",
       "1  Park workers braved heavy winds as gusts of ov...  None   \n",
       "2  Mark Carney has been elected leader of Canada’...  None   \n",
       "3  CNN’s Fareed Zakaria, host of “Fareed Zakaria ...  None   \n",
       "4  Fareed Zakaria, host of “Fareed Zakaria GPS,” ...  None   \n",
       "\n",
       "                publishedAt  viewCount  likeCount  favouriteCount  \\\n",
       "0 2025-03-10 02:10:37+00:00    24071.0      875.0             NaN   \n",
       "1 2025-03-10 02:03:36+00:00    13350.0      552.0             NaN   \n",
       "2 2025-03-10 01:09:23+00:00    65407.0     4854.0             NaN   \n",
       "3 2025-03-09 22:09:51+00:00    12942.0      529.0             NaN   \n",
       "4 2025-03-09 19:04:48+00:00   592868.0    11860.0             NaN   \n",
       "\n",
       "   commentCount duration definition caption publishDayName    durationSecs  \\\n",
       "0         156.0  PT2M10S         hd   false         Monday 0 days 00:02:10   \n",
       "1          30.0    PT33S         hd   false         Monday 0 days 00:00:33   \n",
       "2         611.0    PT38S         hd   false         Monday 0 days 00:00:38   \n",
       "3          78.0  PT1M54S         hd   false         Sunday 0 days 00:01:54   \n",
       "4        4067.0  PT5M49S         sd    true         Sunday 0 days 00:05:49   \n",
       "\n",
       "   tagCount  \n",
       "0         0  \n",
       "1         0  \n",
       "2         0  \n",
       "3         0  \n",
       "4         0  "
      ]
     },
     "execution_count": 36,
     "metadata": {},
     "output_type": "execute_result"
    }
   ],
   "source": [
    "video_df"
   ]
  },
  {
   "cell_type": "markdown",
   "id": "7643a6b6-33ca-4c1d-9c77-95f61612a7d3",
   "metadata": {},
   "source": [
    "# Data Visualisation"
   ]
  },
  {
   "cell_type": "markdown",
   "id": "b540a0ab-6320-42a6-9955-e2a6b65d4e9b",
   "metadata": {},
   "source": [
    "## Exploratory Data Analysis"
   ]
  },
  {
   "cell_type": "markdown",
   "id": "03fc2c2a-28a4-41d6-88d6-3a8ad2482800",
   "metadata": {},
   "source": [
    "- ### Best Performing Videos"
   ]
  },
  {
   "cell_type": "code",
   "execution_count": 62,
   "id": "22fa8c69-4f7c-49cc-86cd-4e5cd839e680",
   "metadata": {},
   "outputs": [
    {
     "data": {
      "image/png": "[encoded data removed]",
      "text/plain": [
       "<Figure size 640x480 with 1 Axes>"
      ]
     },
     "metadata": {},
     "output_type": "display_data"
    }
   ],
   "source": [
    "ax = sns.barplot(\n",
    "    x=\"title\",\n",
    "    y=\"viewCount\",\n",
    "    data=video_df.sort_values(\"viewCount\", ascending=False)[0:9],\n",
    ")\n",
    "\n",
    "# Fix xtick rotation issue\n",
    "ax.set_xticks(range(len(video_df[\"title\"])))  # Ensure fixed tick positions\n",
    "ax.set_xticklabels(video_df[\"title\"], rotation=90)\n",
    "\n",
    "\n",
    "# Fix y-axis formatting (Convert to 'K' notation)\n",
    "\n",
    "ax.yaxis.set_major_formatter(\n",
    "    ticker.FuncFormatter(lambda x, pos: \"{:,.0f}K\".format(x / 1000))\n",
    ")\n",
    "\n",
    "plt.title(\"Top Videos by View Count\")\n",
    "plt.ylabel(\"Views (in thousands)\")\n",
    "plt.xlabel(\"Video Title\")\n",
    "\n",
    "plt.show()\n"
   ]
  },
  {
   "cell_type": "code",
   "execution_count": null,
   "id": "cb1b631e-ee86-4e8f-8c27-3c978e3b210b",
   "metadata": {},
   "outputs": [],
   "source": []
  },
  {
   "cell_type": "markdown",
   "id": "f7e1c0fd-6eb5-4517-8f54-81985d001999",
   "metadata": {},
   "source": [
    "- ### Worst Performing Videos"
   ]
  },
  {
   "cell_type": "code",
   "execution_count": 61,
   "id": "53cb6677-88bc-4803-96ae-b61e8a450025",
   "metadata": {},
   "outputs": [
    {
     "data": {
      "image/png": "[encoded data removed]",
      "text/plain": [
       "<Figure size 800x600 with 1 Axes>"
      ]
     },
     "metadata": {},
     "output_type": "display_data"
    }
   ],
   "source": [
    "worst_videos = video_df.sort_values(\n",
    "    \"viewCount\", ascending=True\n",
    ").head()  # Get bottom 10 videos\n",
    "\n",
    "worst_videos = video_df.sort_values(\"viewCount\", ascending=True).head(10)\n",
    "\n",
    "plt.figure(figsize=(8, 6))\n",
    "ax = sns.barplot(x=\"title\", y=\"viewCount\", data=worst_videos)\n",
    "\n",
    "# Fix tick rotation issue\n",
    "ax.set_xticks(range(len(worst_videos[\"title\"])))  # Fix tick positions\n",
    "ax.set_xticklabels(worst_videos[\"title\"], rotation=90)\n",
    "\n",
    "plt.title(\"Worst Performing Videos by View Count\")\n",
    "plt.ylabel(\"Views\")\n",
    "plt.xlabel(\"Video Title\")\n",
    "\n",
    "plt.show()\n"
   ]
  },
  {
   "cell_type": "code",
   "execution_count": null,
   "id": "9513ae9d-9d61-4d4c-a911-dafaffbcde88",
   "metadata": {},
   "outputs": [],
   "source": []
  },
  {
   "cell_type": "code",
   "execution_count": null,
   "id": "e5ea15c4-da1f-4d8a-ad96-8a8eb6959c85",
   "metadata": {},
   "outputs": [],
   "source": [
    "ax = sns.barplot(\n",
    "    x=\"title\",\n",
    "    y=\"viewCount\",\n",
    "    data=video_df.sort_values(\"viewCount\", ascending=True)[0:9],\n",
    ")\n",
    "\n",
    "# format axis text\n",
    "\n",
    "ax.set_xticks(range(len(video_df[\"title\"])))  # Fix tick positions\n",
    "ax.set_xticklabels(video_df[\"title\"], rotation=90)\n",
    "\n",
    "ax.yaxis.set_major_formatter(\n",
    "    ticker.FuncFormatter(lambda x, pos: \"{:,.0f}\".format(x / 1000) + \"K\")\n",
    ")"
   ]
  },
  {
   "cell_type": "markdown",
   "id": "e4e266e7-4a6a-409c-8dcd-3b2813cc302e",
   "metadata": {
    "jp-MarkdownHeadingCollapsed": true
   },
   "source": [
    "- ### View Distribution per video"
   ]
  },
  {
   "cell_type": "code",
   "execution_count": 60,
   "id": "fc9725c8-de52-4f8f-b9ad-393f083663b1",
   "metadata": {},
   "outputs": [
    {
     "data": {
      "image/png": "[encoded data removed]",
      "text/plain": [
       "<Figure size 640x480 with 1 Axes>"
      ]
     },
     "metadata": {},
     "output_type": "display_data"
    }
   ],
   "source": [
    "sns.violinplot(x=video_df[\"channelTitle\"], y=video_df[\"viewCount\"])\n",
    "\n",
    "plt.show()\n"
   ]
  },
  {
   "cell_type": "code",
   "execution_count": null,
   "id": "56a038af-19ee-4c20-a434-97cff6a9d59d",
   "metadata": {},
   "outputs": [],
   "source": []
  },
  {
   "cell_type": "markdown",
   "id": "0c1fa5b3-cbd7-4d56-92d2-a84b1dc887a7",
   "metadata": {},
   "source": [
    "- ### Video Duration"
   ]
  },
  {
   "cell_type": "code",
   "execution_count": 59,
   "id": "8d9ae75c-7ec4-4ebe-aeca-607ef7814802",
   "metadata": {},
   "outputs": [
    {
     "data": {
      "image/png": "[encoded data removed]",
      "text/plain": [
       "<Figure size 640x480 with 1 Axes>"
      ]
     },
     "metadata": {},
     "output_type": "display_data"
    }
   ],
   "source": [
    "sns.histplot(data=video_df, x=\"durationSecs\", bins=30)\n",
    "\n",
    "plt.show()\n"
   ]
  },
  {
   "cell_type": "code",
   "execution_count": null,
   "id": "144a9511-40f4-4d80-b061-bb8b1be2b607",
   "metadata": {},
   "outputs": [],
   "source": [
    "video_df"
   ]
  },
  {
   "cell_type": "markdown",
   "id": "7c369de6-85f6-4541-a0c9-128546e03c3c",
   "metadata": {},
   "source": [
    "- ### WordCloud for video titles"
   ]
  },
  {
   "cell_type": "code",
   "execution_count": null,
   "id": "ec6fcbb2-503f-4a4a-8726-e15fcedb8fb5",
   "metadata": {},
   "outputs": [],
   "source": [
    "stop_words = set(stopwords.words(\"english\"))\n",
    "video_df[\"title_no_stopwords\"] = video_df[\"title\"].apply(\n",
    "    lambda x: [item for item in str(x).split() if item not in stop_words]\n",
    ")\n",
    "\n",
    "all_words = list([a for b in video_df[\"title_no_stopwords\"].tolist() for a in b])\n",
    "all_words_str = \" \".join(all_words)\n",
    "\n",
    "\n",
    "def plot_cloud(wordcloud):\n",
    "    plt.figure(figsize=(30, 20))\n",
    "    plt.imshow(wordcloud)\n",
    "    plt.axis(\"off\")\n",
    "\n",
    "\n",
    "wordcloud = WordCloud(\n",
    "    width=900,\n",
    "    height=400,\n",
    "    random_state=1,\n",
    "    background_color=\"black\",\n",
    "    colormap=\"magma\",\n",
    "    collocations=False,\n",
    ").generate(all_words_str)\n",
    "plot_cloud(wordcloud)\n"
   ]
  },
  {
   "cell_type": "code",
   "execution_count": null,
   "id": "6f0b5d52-9750-494a-a4e3-d98ea0c4636b",
   "metadata": {},
   "outputs": [],
   "source": [
    "video_df"
   ]
  },
  {
   "cell_type": "markdown",
   "id": "b23e9ebf-2640-4a53-8c61-916be5315213",
   "metadata": {},
   "source": [
    "- ### Title length vs views"
   ]
  },
  {
   "cell_type": "code",
   "execution_count": 43,
   "id": "f9ce0b95-1d37-48a1-abd7-f24fa23d8d41",
   "metadata": {},
   "outputs": [
    {
     "data": {
      "text/html": [
       "<div>\n",
       "<style scoped>\n",
       "    .dataframe tbody tr th:only-of-type {\n",
       "        vertical-align: middle;\n",
       "    }\n",
       "\n",
       "    .dataframe tbody tr th {\n",
       "        vertical-align: top;\n",
       "    }\n",
       "\n",
       "    .dataframe thead th {\n",
       "        text-align: right;\n",
       "    }\n",
       "</style>\n",
       "<table border=\"1\" class=\"dataframe\">\n",
       "  <thead>\n",
       "    <tr style=\"text-align: right;\">\n",
       "      <th></th>\n",
       "      <th>video_id</th>\n",
       "      <th>channelTitle</th>\n",
       "      <th>title</th>\n",
       "      <th>description</th>\n",
       "      <th>tags</th>\n",
       "      <th>publishedAt</th>\n",
       "      <th>viewCount</th>\n",
       "      <th>likeCount</th>\n",
       "      <th>favouriteCount</th>\n",
       "      <th>commentCount</th>\n",
       "      <th>duration</th>\n",
       "      <th>definition</th>\n",
       "      <th>caption</th>\n",
       "      <th>publishDayName</th>\n",
       "      <th>durationSecs</th>\n",
       "      <th>tagCount</th>\n",
       "      <th>title_no_stopwords</th>\n",
       "    </tr>\n",
       "  </thead>\n",
       "  <tbody>\n",
       "    <tr>\n",
       "      <th>0</th>\n",
       "      <td>WMGQiQDfuKM</td>\n",
       "      <td>CNN</td>\n",
       "      <td>Canadian couple cancels thousands in travel to...</td>\n",
       "      <td>CNN's Natasha Chen spoke to Gary and Carol Cru...</td>\n",
       "      <td>None</td>\n",
       "      <td>2025-03-10 02:10:37+00:00</td>\n",
       "      <td>24071.0</td>\n",
       "      <td>875.0</td>\n",
       "      <td>NaN</td>\n",
       "      <td>156.0</td>\n",
       "      <td>PT2M10S</td>\n",
       "      <td>hd</td>\n",
       "      <td>false</td>\n",
       "      <td>Monday</td>\n",
       "      <td>130.0</td>\n",
       "      <td>0</td>\n",
       "      <td>[Canadian, couple, cancels, thousands, travel,...</td>\n",
       "    </tr>\n",
       "    <tr>\n",
       "      <th>1</th>\n",
       "      <td>V5ypd7kJYh8</td>\n",
       "      <td>CNN</td>\n",
       "      <td>Park workers battle 120 MPH winds</td>\n",
       "      <td>Park workers braved heavy winds as gusts of ov...</td>\n",
       "      <td>None</td>\n",
       "      <td>2025-03-10 02:03:36+00:00</td>\n",
       "      <td>13350.0</td>\n",
       "      <td>552.0</td>\n",
       "      <td>NaN</td>\n",
       "      <td>30.0</td>\n",
       "      <td>PT33S</td>\n",
       "      <td>hd</td>\n",
       "      <td>false</td>\n",
       "      <td>Monday</td>\n",
       "      <td>33.0</td>\n",
       "      <td>0</td>\n",
       "      <td>[Park, workers, battle, 120, MPH, winds]</td>\n",
       "    </tr>\n",
       "    <tr>\n",
       "      <th>2</th>\n",
       "      <td>AqTvAZuwWlU</td>\n",
       "      <td>CNN</td>\n",
       "      <td>Mark Carney addresses Trump in first remarks a...</td>\n",
       "      <td>Mark Carney has been elected leader of Canada’...</td>\n",
       "      <td>None</td>\n",
       "      <td>2025-03-10 01:09:23+00:00</td>\n",
       "      <td>65407.0</td>\n",
       "      <td>4854.0</td>\n",
       "      <td>NaN</td>\n",
       "      <td>611.0</td>\n",
       "      <td>PT38S</td>\n",
       "      <td>hd</td>\n",
       "      <td>false</td>\n",
       "      <td>Monday</td>\n",
       "      <td>38.0</td>\n",
       "      <td>0</td>\n",
       "      <td>[Mark, Carney, addresses, Trump, first, remark...</td>\n",
       "    </tr>\n",
       "    <tr>\n",
       "      <th>3</th>\n",
       "      <td>7iZka5ewiQI</td>\n",
       "      <td>CNN</td>\n",
       "      <td>Fareed on global impact of Trump’s moves</td>\n",
       "      <td>CNN’s Fareed Zakaria, host of “Fareed Zakaria ...</td>\n",
       "      <td>None</td>\n",
       "      <td>2025-03-09 22:09:51+00:00</td>\n",
       "      <td>12942.0</td>\n",
       "      <td>529.0</td>\n",
       "      <td>NaN</td>\n",
       "      <td>78.0</td>\n",
       "      <td>PT1M54S</td>\n",
       "      <td>hd</td>\n",
       "      <td>false</td>\n",
       "      <td>Sunday</td>\n",
       "      <td>114.0</td>\n",
       "      <td>0</td>\n",
       "      <td>[Fareed, global, impact, Trump’s, moves]</td>\n",
       "    </tr>\n",
       "    <tr>\n",
       "      <th>4</th>\n",
       "      <td>l_w-H7x4FwA</td>\n",
       "      <td>CNN</td>\n",
       "      <td>Fareed’s Take: Trump’s revolution in foreign p...</td>\n",
       "      <td>Fareed Zakaria, host of “Fareed Zakaria GPS,” ...</td>\n",
       "      <td>None</td>\n",
       "      <td>2025-03-09 19:04:48+00:00</td>\n",
       "      <td>592868.0</td>\n",
       "      <td>11860.0</td>\n",
       "      <td>NaN</td>\n",
       "      <td>4067.0</td>\n",
       "      <td>PT5M49S</td>\n",
       "      <td>sd</td>\n",
       "      <td>true</td>\n",
       "      <td>Sunday</td>\n",
       "      <td>349.0</td>\n",
       "      <td>0</td>\n",
       "      <td>[Fareed’s, Take:, Trump’s, revolution, foreign...</td>\n",
       "    </tr>\n",
       "  </tbody>\n",
       "</table>\n",
       "</div>"
      ],
      "text/plain": [
       "      video_id channelTitle  \\\n",
       "0  WMGQiQDfuKM          CNN   \n",
       "1  V5ypd7kJYh8          CNN   \n",
       "2  AqTvAZuwWlU          CNN   \n",
       "3  7iZka5ewiQI          CNN   \n",
       "4  l_w-H7x4FwA          CNN   \n",
       "\n",
       "                                               title  \\\n",
       "0  Canadian couple cancels thousands in travel to...   \n",
       "1                  Park workers battle 120 MPH winds   \n",
       "2  Mark Carney addresses Trump in first remarks a...   \n",
       "3           Fareed on global impact of Trump’s moves   \n",
       "4  Fareed’s Take: Trump’s revolution in foreign p...   \n",
       "\n",
       "                                         description  tags  \\\n",
       "0  CNN's Natasha Chen spoke to Gary and Carol Cru...  None   \n",
       "1  Park workers braved heavy winds as gusts of ov...  None   \n",
       "2  Mark Carney has been elected leader of Canada’...  None   \n",
       "3  CNN’s Fareed Zakaria, host of “Fareed Zakaria ...  None   \n",
       "4  Fareed Zakaria, host of “Fareed Zakaria GPS,” ...  None   \n",
       "\n",
       "                publishedAt  viewCount  likeCount  favouriteCount  \\\n",
       "0 2025-03-10 02:10:37+00:00    24071.0      875.0             NaN   \n",
       "1 2025-03-10 02:03:36+00:00    13350.0      552.0             NaN   \n",
       "2 2025-03-10 01:09:23+00:00    65407.0     4854.0             NaN   \n",
       "3 2025-03-09 22:09:51+00:00    12942.0      529.0             NaN   \n",
       "4 2025-03-09 19:04:48+00:00   592868.0    11860.0             NaN   \n",
       "\n",
       "   commentCount duration definition caption publishDayName  durationSecs  \\\n",
       "0         156.0  PT2M10S         hd   false         Monday         130.0   \n",
       "1          30.0    PT33S         hd   false         Monday          33.0   \n",
       "2         611.0    PT38S         hd   false         Monday          38.0   \n",
       "3          78.0  PT1M54S         hd   false         Sunday         114.0   \n",
       "4        4067.0  PT5M49S         sd    true         Sunday         349.0   \n",
       "\n",
       "   tagCount                                 title_no_stopwords  \n",
       "0         0  [Canadian, couple, cancels, thousands, travel,...  \n",
       "1         0           [Park, workers, battle, 120, MPH, winds]  \n",
       "2         0  [Mark, Carney, addresses, Trump, first, remark...  \n",
       "3         0           [Fareed, global, impact, Trump’s, moves]  \n",
       "4         0  [Fareed’s, Take:, Trump’s, revolution, foreign...  "
      ]
     },
     "metadata": {},
     "output_type": "display_data"
    },
    {
     "data": {
      "text/html": [
       "<div>\n",
       "<style scoped>\n",
       "    .dataframe tbody tr th:only-of-type {\n",
       "        vertical-align: middle;\n",
       "    }\n",
       "\n",
       "    .dataframe tbody tr th {\n",
       "        vertical-align: top;\n",
       "    }\n",
       "\n",
       "    .dataframe thead th {\n",
       "        text-align: right;\n",
       "    }\n",
       "</style>\n",
       "<table border=\"1\" class=\"dataframe\">\n",
       "  <thead>\n",
       "    <tr style=\"text-align: right;\">\n",
       "      <th></th>\n",
       "      <th>durationSecs</th>\n",
       "      <th>viewCount</th>\n",
       "      <th>likeCount</th>\n",
       "      <th>commentCount</th>\n",
       "    </tr>\n",
       "  </thead>\n",
       "  <tbody>\n",
       "    <tr>\n",
       "      <th>count</th>\n",
       "      <td>5.000000</td>\n",
       "      <td>5.000000</td>\n",
       "      <td>5.00000</td>\n",
       "      <td>5.000000</td>\n",
       "    </tr>\n",
       "    <tr>\n",
       "      <th>mean</th>\n",
       "      <td>132.800000</td>\n",
       "      <td>141727.600000</td>\n",
       "      <td>3734.00000</td>\n",
       "      <td>988.400000</td>\n",
       "    </tr>\n",
       "    <tr>\n",
       "      <th>std</th>\n",
       "      <td>128.501751</td>\n",
       "      <td>253111.689264</td>\n",
       "      <td>4895.33722</td>\n",
       "      <td>1736.408448</td>\n",
       "    </tr>\n",
       "    <tr>\n",
       "      <th>min</th>\n",
       "      <td>33.000000</td>\n",
       "      <td>12942.000000</td>\n",
       "      <td>529.00000</td>\n",
       "      <td>30.000000</td>\n",
       "    </tr>\n",
       "    <tr>\n",
       "      <th>25%</th>\n",
       "      <td>38.000000</td>\n",
       "      <td>13350.000000</td>\n",
       "      <td>552.00000</td>\n",
       "      <td>78.000000</td>\n",
       "    </tr>\n",
       "    <tr>\n",
       "      <th>50%</th>\n",
       "      <td>114.000000</td>\n",
       "      <td>24071.000000</td>\n",
       "      <td>875.00000</td>\n",
       "      <td>156.000000</td>\n",
       "    </tr>\n",
       "    <tr>\n",
       "      <th>75%</th>\n",
       "      <td>130.000000</td>\n",
       "      <td>65407.000000</td>\n",
       "      <td>4854.00000</td>\n",
       "      <td>611.000000</td>\n",
       "    </tr>\n",
       "    <tr>\n",
       "      <th>max</th>\n",
       "      <td>349.000000</td>\n",
       "      <td>592868.000000</td>\n",
       "      <td>11860.00000</td>\n",
       "      <td>4067.000000</td>\n",
       "    </tr>\n",
       "  </tbody>\n",
       "</table>\n",
       "</div>"
      ],
      "text/plain": [
       "       durationSecs      viewCount    likeCount  commentCount\n",
       "count      5.000000       5.000000      5.00000      5.000000\n",
       "mean     132.800000  141727.600000   3734.00000    988.400000\n",
       "std      128.501751  253111.689264   4895.33722   1736.408448\n",
       "min       33.000000   12942.000000    529.00000     30.000000\n",
       "25%       38.000000   13350.000000    552.00000     78.000000\n",
       "50%      114.000000   24071.000000    875.00000    156.000000\n",
       "75%      130.000000   65407.000000   4854.00000    611.000000\n",
       "max      349.000000  592868.000000  11860.00000   4067.000000"
      ]
     },
     "metadata": {},
     "output_type": "display_data"
    }
   ],
   "source": [
    "display(video_df.head())\n",
    "\n",
    "if \"duration\" not in video_df.columns:\n",
    "    raise ValueError(\"Error: 'duration' column is missing in the dataset.\")\n",
    "\n",
    "\n",
    "# Convert 'duration' from ISO 8601 format to seconds\n",
    "\n",
    "def convert_duration(duration):\n",
    "    try:\n",
    "        return isodate.parse_duration(duration).total_seconds()\n",
    "    except:\n",
    "        return np.nan  # Handle invalid values\n",
    "\n",
    "\n",
    "video_df[\"durationSecs\"] = video_df[\"duration\"].apply(convert_duration)\n",
    "\n",
    "# Drop rows with missing duration\n",
    "\n",
    "video_df = video_df.dropna(subset=[\"durationSecs\"])\n",
    "\n",
    "# Display summary statistics for duration\n",
    "\n",
    "display(video_df[[\"durationSecs\", \"viewCount\", \"likeCount\", \"commentCount\"]].describe())\n",
    "\n",
    "# Convert numeric columns to integer type\n",
    "\n",
    "video_df[\"viewCount\"] = pd.to_numeric(video_df[\"viewCount\"], errors=\"coerce\")\n",
    "video_df[\"likeCount\"] = pd.to_numeric(video_df[\"likeCount\"], errors=\"coerce\")\n",
    "video_df[\"commentCount\"] = pd.to_numeric(video_df[\"commentCount\"], errors=\"coerce\")\n",
    "\n",
    "# Drop NaN values in engagement metrics\n",
    "\n",
    "video_df = video_df.dropna(subset=[\"viewCount\", \"likeCount\", \"commentCount\"])\n",
    "\n",
    "\n"
   ]
  },
  {
   "cell_type": "markdown",
   "id": "48122960-a08a-45cf-9afb-99cd9362cab0",
   "metadata": {},
   "source": [
    "- ### Duration Vs. Views"
   ]
  },
  {
   "cell_type": "code",
   "execution_count": null,
   "id": "2669ce5a-4408-427d-aa17-d56aa1e58d9f",
   "metadata": {},
   "outputs": [
    {
     "data": {
      "image/png": "[encoded data removed]",
      "text/plain": [
       "<Figure size 1400x600 with 1 Axes>"
      ]
     },
     "metadata": {},
     "output_type": "display_data"
    }
   ],
   "source": [
    "# Create new column - durationMins\n",
    "video_df[\"durationMins\"] = video_df[\"durationSecs\"] / 60  # Convert to minutes\n",
    "\n",
    "# Define duration categories (in minutes)\n",
    "bins = [0, 3, 5, 10, 60]  # <3 min, 3-5 min, 5-10 min, 10+ min\n",
    "labels = [\"Short (<3 min)\", \"Medium (3-5 min)\", \"Long (5-10 min)\", \"Very Long (10+ min)\"]\n",
    "video_df[\"durationCategory\"] = pd.cut(video_df[\"durationMins\"], bins=bins, labels=labels)\n",
    "\n",
    "# Group by duration category and calculate averages\n",
    "video_df_grouped = video_df.groupby(\"durationCategory\", as_index=False, observed=False).agg({\n",
    "    \"viewCount\": \"mean\",\n",
    "    \"likeCount\": \"mean\"\n",
    "})\n",
    "\n",
    "plt.figure(figsize=(14,6))\n",
    "ax1 = sns.lineplot(data=video_df_grouped, x=\"durationCategory\", y=\"viewCount\", marker=\"o\", linestyle=\"-\", color=\"b\")\n",
    "\n",
    "# Format Y-axis in 'K' notation\n",
    "ax1.yaxis.set_major_formatter(ticker.FuncFormatter(lambda x, pos: f\"{x/1000:,.0f}K\"))\n",
    "\n",
    "plt.xlabel(\"Video Duration Category (Minutes)\")\n",
    "plt.ylabel(\"Average View Count\")\n",
    "plt.title(\"Video Duration vs. View Count (Categorized in Minutes)\")\n",
    "\n",
    "plt.show()"
   ]
  },
  {
   "cell_type": "markdown",
   "id": "0c6d5013-2d0b-4742-b21f-578bcec00c15",
   "metadata": {},
   "source": [
    "- ### Duration Vs. Likes"
   ]
  },
  {
   "cell_type": "code",
   "execution_count": 56,
   "id": "645d8fa6-dc95-4df2-892c-a8a97f6b096f",
   "metadata": {},
   "outputs": [
    {
     "data": {
      "image/png": "[encoded data removed]",
      "text/plain": [
       "<Figure size 1400x600 with 1 Axes>"
      ]
     },
     "metadata": {},
     "output_type": "display_data"
    }
   ],
   "source": [
    "# Categorize durations\n",
    "bins = [0, 60, 180, 300, 600]  # 0-1 min, 1-3 min, 3-5 min, 10+ min\n",
    "labels = [\"Short (<3 min)\", \"Medium (3-5 min)\", \"Long (5-10 min)\", \"Very Long (10+ min)\"]\n",
    "video_df[\"durationCategory\"] = pd.cut(video_df[\"durationSecs\"], bins=bins, labels=labels)\n",
    "\n",
    "# Aggregate by category\n",
    "video_df_grouped = video_df.groupby(\"durationCategory\", as_index=False, observed=False)[\"likeCount\"].mean() \n",
    "\n",
    "plt.figure(figsize=(14,6))\n",
    "ax = sns.barplot(data=video_df_grouped, x=\"durationCategory\", y=\"likeCount\", color=\"green\", alpha=0.6)\n",
    "\n",
    "# Format Y-axis in 'K' notation\n",
    "ax.yaxis.set_major_formatter(ticker.FuncFormatter(lambda x, pos: f\"{x/1000:,.0f}K\"))\n",
    "\n",
    "plt.xlabel(\"Video Duration Category\")\n",
    "plt.ylabel(\"Average Like Count\")\n",
    "plt.title(\"Video Duration vs. Like Count (Categorized)\")\n",
    "\n",
    "plt.show()\n"
   ]
  },
  {
   "cell_type": "markdown",
   "id": "8d888fc3-0e6c-4cc8-9b28-b0b936f988ba",
   "metadata": {},
   "source": [
    "- ### Video Length vs. Comments"
   ]
  },
  {
   "cell_type": "code",
   "execution_count": 57,
   "id": "b97bd58e-7c72-45b7-86a0-900fc0ef1440",
   "metadata": {},
   "outputs": [
    {
     "data": {
      "image/png": "[encoded data removed]",
      "text/plain": [
       "<Figure size 1000x500 with 1 Axes>"
      ]
     },
     "metadata": {},
     "output_type": "display_data"
    }
   ],
   "source": [
    "plt.figure(figsize=(10, 5))\n",
    "sns.scatterplot(\n",
    "    x=video_df[\"durationSecs\"], y=video_df[\"commentCount\"], alpha=0.5, color=\"red\"\n",
    ")\n",
    "plt.xscale(\"log\")\n",
    "plt.yscale(\"log\")\n",
    "plt.xlabel(\"Video Duration (Seconds)\")\n",
    "plt.ylabel(\"Comment Count\")\n",
    "plt.title(\"Video Length vs. Comment Count\")\n",
    "\n",
    "plt.show()\n"
   ]
  },
  {
   "cell_type": "markdown",
   "id": "7b48a474-ac8b-4e40-8a4b-1ce25453d95f",
   "metadata": {},
   "source": [
    "- ### Compute correlation matrix"
   ]
  },
  {
   "cell_type": "code",
   "execution_count": 58,
   "id": "862ff8d6-2f06-4110-a353-2aedce6c2cbc",
   "metadata": {},
   "outputs": [
    {
     "data": {
      "image/png": "[encoded data removed]",
      "text/plain": [
       "<Figure size 800x600 with 2 Axes>"
      ]
     },
     "metadata": {},
     "output_type": "display_data"
    },
    {
     "name": "stdout",
     "output_type": "stream",
     "text": [
      "Longer videos tend to get more views.\n",
      "Longer videos receive more likes on average.\n",
      "Longer videos generate more comments.\n"
     ]
    }
   ],
   "source": [
    "correlation_matrix = video_df[\n",
    "    [\"durationSecs\", \"viewCount\", \"likeCount\", \"commentCount\"]\n",
    "].corr()\n",
    "\n",
    "# Display heatmap of correlations\n",
    "\n",
    "plt.figure(figsize=(8, 6))\n",
    "sns.heatmap(correlation_matrix, annot=True, cmap=\"coolwarm\", fmt=\".2f\", linewidths=0.5)\n",
    "plt.title(\"Correlation Between Video Length and Engagement\")\n",
    "plt.show()\n",
    "\n",
    "# Interpretation\n",
    "\n",
    "if correlation_matrix.loc[\"durationSecs\", \"viewCount\"] > 0:\n",
    "    print(\"Longer videos tend to get more views.\")\n",
    "else:\n",
    "    print(\"Shorter videos tend to get more views.\")\n",
    "\n",
    "if correlation_matrix.loc[\"durationSecs\", \"likeCount\"] > 0:\n",
    "    print(\"Longer videos receive more likes on average.\")\n",
    "else:\n",
    "    print(\"Shorter videos receive more likes.\")\n",
    "\n",
    "if correlation_matrix.loc[\"durationSecs\", \"commentCount\"] > 0:\n",
    "    print(\"Longer videos generate more comments.\")\n",
    "else:\n",
    "    print(\"Shorter videos generate more comments.\")\n",
    "\n",
    "plt.show()\n"
   ]
  },
  {
   "cell_type": "code",
   "execution_count": null,
   "id": "a664cd13-ed4c-440a-adad-1b5e3675b27c",
   "metadata": {},
   "outputs": [],
   "source": []
  }
 ],
 "metadata": {
  "kernelspec": {
   "display_name": "Python 3 (ipykernel)",
   "language": "python",
   "name": "python3"
  },
  "language_info": {
   "codemirror_mode": {
    "name": "ipython",
    "version": 3
   },
   "file_extension": ".py",
   "mimetype": "text/x-python",
   "name": "python",
   "nbconvert_exporter": "python",
   "pygments_lexer": "ipython3",
   "version": "3.12.4"
  }
 },
 "nbformat": 4,
 "nbformat_minor": 5
}
